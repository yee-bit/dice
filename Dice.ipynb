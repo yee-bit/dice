{
 "cells": [
  {
   "cell_type": "code",
   "execution_count": 4,
   "metadata": {
    "cocalc": {
     "outputs": {
      "0": {
       "name": "input",
       "opts": {
        "password": false,
        "prompt": "How many sided dice?"
       },
       "output_type": "stream",
       "value": "6"
      }
     }
    }
   },
   "outputs": [
    {
     "name": "stdout",
     "output_type": "stream",
     "text": [
      "How many sided dice? 4\n",
      " \n",
      "4 sided dice!\n",
      " \n",
      "Your number is: 2\n",
      " \n",
      "Plus, there is a 25.0% chance that you will get the number you want.\n"
     ]
    }
   ],
   "source": [
    "import random\n",
    "\n",
    "user = int(input(\"How many sided dice? \"))\n",
    "\n",
    "if user > 1:\n",
    "    random_num = random.randint(1, user)\n",
    "elif user <= 1:\n",
    "    print(\"Error, please try again.\")\n",
    "\n",
    "if user > 1:\n",
    "    print(\" \")\n",
    "    print(str(user) + \" sided dice!\")\n",
    "    print(\" \")\n",
    "    print(\"Your number is: \" + str(random_num))\n",
    "\n",
    "#Fun Fact\n",
    "prob = (1 / user)\n",
    "per = (prob * 100)\n",
    "final = round(per, 3)\n",
    "\n",
    "if user > 1:\n",
    "    print(\" \")\n",
    "    print(\"Plus, there is a \" + str(final) + \"% chance that you will get the number you want.\")"
   ]
  },
  {
   "cell_type": "code",
   "execution_count": 0,
   "metadata": {},
   "outputs": [],
   "source": []
  }
 ],
 "metadata": {
  "kernelspec": {
   "display_name": "Python 3",
   "language": "python",
   "name": "python3"
  },
  "language_info": {
   "codemirror_mode": {
    "name": "ipython",
    "version": 3
   },
   "file_extension": ".py",
   "mimetype": "text/x-python",
   "name": "python",
   "nbconvert_exporter": "python",
   "pygments_lexer": "ipython3",
   "version": "3.8.5"
  }
 },
 "nbformat": 4,
 "nbformat_minor": 4
}
